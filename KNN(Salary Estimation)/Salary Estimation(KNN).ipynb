{
 "cells": [
  {
   "cell_type": "markdown",
   "id": "7b8ffee3-a05d-41aa-86cd-3c5be45c1930",
   "metadata": {},
   "source": [
    "# SALARY ESTIMATION USING KNN:"
   ]
  },
  {
   "cell_type": "markdown",
   "id": "30437fa0-35d7-48e9-bb8d-c09b6b70b33a",
   "metadata": {},
   "source": [
    "# 1)IMPORTING LIBRARIES:"
   ]
  },
  {
   "cell_type": "code",
   "execution_count": 1,
   "id": "02f15d3f-2e32-4fd3-845c-2b9de959b2ba",
   "metadata": {},
   "outputs": [],
   "source": [
    "import pandas as pd\n",
    "import numpy as np"
   ]
  },
  {
   "cell_type": "markdown",
   "id": "b9b59e02-04c5-4a5a-9192-1bb9efea3962",
   "metadata": {},
   "source": [
    "# 2)LOADING THE DATASET:"
   ]
  },
  {
   "cell_type": "code",
   "execution_count": 2,
   "id": "74950fff-0f85-4fd3-82cd-f7f110c7aa46",
   "metadata": {},
   "outputs": [],
   "source": [
    "df=pd.read_csv(r'C:/Users/deysu/OneDrive/Documents/ML/PANTECH-SOLUTION INTERNSHIP\\DAY-4(KNN)/4_SalaryEstimator_K-NearestNeighbour/salary.csv')"
   ]
  },
  {
   "cell_type": "markdown",
   "id": "4e8c8a0c-a0b3-4988-a369-72a133d7869d",
   "metadata": {},
   "source": [
    "# 3)SUMMARIZE THE DATA:"
   ]
  },
  {
   "cell_type": "code",
   "execution_count": 3,
   "id": "b9059cd9-b778-4c57-b99f-9eb251cf38b8",
   "metadata": {},
   "outputs": [
    {
     "data": {
      "text/plain": [
       "(32561, 5)"
      ]
     },
     "execution_count": 3,
     "metadata": {},
     "output_type": "execute_result"
    }
   ],
   "source": [
    "df.shape"
   ]
  },
  {
   "cell_type": "code",
   "execution_count": 4,
   "id": "207bafcc-2ea8-484f-8ea3-3769f39d0ce8",
   "metadata": {},
   "outputs": [
    {
     "data": {
      "text/html": [
       "<div>\n",
       "<style scoped>\n",
       "    .dataframe tbody tr th:only-of-type {\n",
       "        vertical-align: middle;\n",
       "    }\n",
       "\n",
       "    .dataframe tbody tr th {\n",
       "        vertical-align: top;\n",
       "    }\n",
       "\n",
       "    .dataframe thead th {\n",
       "        text-align: right;\n",
       "    }\n",
       "</style>\n",
       "<table border=\"1\" class=\"dataframe\">\n",
       "  <thead>\n",
       "    <tr style=\"text-align: right;\">\n",
       "      <th></th>\n",
       "      <th>age</th>\n",
       "      <th>education.num</th>\n",
       "      <th>capital.gain</th>\n",
       "      <th>hours.per.week</th>\n",
       "      <th>income</th>\n",
       "    </tr>\n",
       "  </thead>\n",
       "  <tbody>\n",
       "    <tr>\n",
       "      <th>0</th>\n",
       "      <td>90</td>\n",
       "      <td>9</td>\n",
       "      <td>0</td>\n",
       "      <td>40</td>\n",
       "      <td>&lt;=50K</td>\n",
       "    </tr>\n",
       "    <tr>\n",
       "      <th>1</th>\n",
       "      <td>82</td>\n",
       "      <td>9</td>\n",
       "      <td>0</td>\n",
       "      <td>18</td>\n",
       "      <td>&lt;=50K</td>\n",
       "    </tr>\n",
       "    <tr>\n",
       "      <th>2</th>\n",
       "      <td>66</td>\n",
       "      <td>10</td>\n",
       "      <td>0</td>\n",
       "      <td>40</td>\n",
       "      <td>&lt;=50K</td>\n",
       "    </tr>\n",
       "    <tr>\n",
       "      <th>3</th>\n",
       "      <td>54</td>\n",
       "      <td>4</td>\n",
       "      <td>0</td>\n",
       "      <td>40</td>\n",
       "      <td>&lt;=50K</td>\n",
       "    </tr>\n",
       "    <tr>\n",
       "      <th>4</th>\n",
       "      <td>41</td>\n",
       "      <td>10</td>\n",
       "      <td>0</td>\n",
       "      <td>40</td>\n",
       "      <td>&lt;=50K</td>\n",
       "    </tr>\n",
       "  </tbody>\n",
       "</table>\n",
       "</div>"
      ],
      "text/plain": [
       "   age  education.num  capital.gain  hours.per.week income\n",
       "0   90              9             0              40  <=50K\n",
       "1   82              9             0              18  <=50K\n",
       "2   66             10             0              40  <=50K\n",
       "3   54              4             0              40  <=50K\n",
       "4   41             10             0              40  <=50K"
      ]
     },
     "execution_count": 4,
     "metadata": {},
     "output_type": "execute_result"
    }
   ],
   "source": [
    "df.head()"
   ]
  },
  {
   "cell_type": "code",
   "execution_count": 5,
   "id": "b1213cb1-a9b1-488c-97fb-11e5cab9a744",
   "metadata": {},
   "outputs": [
    {
     "data": {
      "text/html": [
       "<div>\n",
       "<style scoped>\n",
       "    .dataframe tbody tr th:only-of-type {\n",
       "        vertical-align: middle;\n",
       "    }\n",
       "\n",
       "    .dataframe tbody tr th {\n",
       "        vertical-align: top;\n",
       "    }\n",
       "\n",
       "    .dataframe thead th {\n",
       "        text-align: right;\n",
       "    }\n",
       "</style>\n",
       "<table border=\"1\" class=\"dataframe\">\n",
       "  <thead>\n",
       "    <tr style=\"text-align: right;\">\n",
       "      <th></th>\n",
       "      <th>age</th>\n",
       "      <th>education.num</th>\n",
       "      <th>capital.gain</th>\n",
       "      <th>hours.per.week</th>\n",
       "    </tr>\n",
       "  </thead>\n",
       "  <tbody>\n",
       "    <tr>\n",
       "      <th>count</th>\n",
       "      <td>32561.000000</td>\n",
       "      <td>32561.000000</td>\n",
       "      <td>32561.000000</td>\n",
       "      <td>32561.000000</td>\n",
       "    </tr>\n",
       "    <tr>\n",
       "      <th>mean</th>\n",
       "      <td>38.581647</td>\n",
       "      <td>10.080679</td>\n",
       "      <td>1077.648844</td>\n",
       "      <td>40.437456</td>\n",
       "    </tr>\n",
       "    <tr>\n",
       "      <th>std</th>\n",
       "      <td>13.640433</td>\n",
       "      <td>2.572720</td>\n",
       "      <td>7385.292085</td>\n",
       "      <td>12.347429</td>\n",
       "    </tr>\n",
       "    <tr>\n",
       "      <th>min</th>\n",
       "      <td>17.000000</td>\n",
       "      <td>1.000000</td>\n",
       "      <td>0.000000</td>\n",
       "      <td>1.000000</td>\n",
       "    </tr>\n",
       "    <tr>\n",
       "      <th>25%</th>\n",
       "      <td>28.000000</td>\n",
       "      <td>9.000000</td>\n",
       "      <td>0.000000</td>\n",
       "      <td>40.000000</td>\n",
       "    </tr>\n",
       "    <tr>\n",
       "      <th>50%</th>\n",
       "      <td>37.000000</td>\n",
       "      <td>10.000000</td>\n",
       "      <td>0.000000</td>\n",
       "      <td>40.000000</td>\n",
       "    </tr>\n",
       "    <tr>\n",
       "      <th>75%</th>\n",
       "      <td>48.000000</td>\n",
       "      <td>12.000000</td>\n",
       "      <td>0.000000</td>\n",
       "      <td>45.000000</td>\n",
       "    </tr>\n",
       "    <tr>\n",
       "      <th>max</th>\n",
       "      <td>90.000000</td>\n",
       "      <td>16.000000</td>\n",
       "      <td>99999.000000</td>\n",
       "      <td>99.000000</td>\n",
       "    </tr>\n",
       "  </tbody>\n",
       "</table>\n",
       "</div>"
      ],
      "text/plain": [
       "                age  education.num  capital.gain  hours.per.week\n",
       "count  32561.000000   32561.000000  32561.000000    32561.000000\n",
       "mean      38.581647      10.080679   1077.648844       40.437456\n",
       "std       13.640433       2.572720   7385.292085       12.347429\n",
       "min       17.000000       1.000000      0.000000        1.000000\n",
       "25%       28.000000       9.000000      0.000000       40.000000\n",
       "50%       37.000000      10.000000      0.000000       40.000000\n",
       "75%       48.000000      12.000000      0.000000       45.000000\n",
       "max       90.000000      16.000000  99999.000000       99.000000"
      ]
     },
     "execution_count": 5,
     "metadata": {},
     "output_type": "execute_result"
    }
   ],
   "source": [
    "df.describe()"
   ]
  },
  {
   "cell_type": "code",
   "execution_count": 6,
   "id": "f2a4c629-8f99-44c6-ab5f-43061dcdc150",
   "metadata": {},
   "outputs": [
    {
     "name": "stdout",
     "output_type": "stream",
     "text": [
      "<class 'pandas.core.frame.DataFrame'>\n",
      "RangeIndex: 32561 entries, 0 to 32560\n",
      "Data columns (total 5 columns):\n",
      " #   Column          Non-Null Count  Dtype \n",
      "---  ------          --------------  ----- \n",
      " 0   age             32561 non-null  int64 \n",
      " 1   education.num   32561 non-null  int64 \n",
      " 2   capital.gain    32561 non-null  int64 \n",
      " 3   hours.per.week  32561 non-null  int64 \n",
      " 4   income          32561 non-null  object\n",
      "dtypes: int64(4), object(1)\n",
      "memory usage: 1.2+ MB\n"
     ]
    }
   ],
   "source": [
    "df.info()"
   ]
  },
  {
   "cell_type": "code",
   "execution_count": 7,
   "id": "b5e15050-f1ed-4c47-ae73-8c9efa698315",
   "metadata": {},
   "outputs": [
    {
     "data": {
      "text/plain": [
       "age               0\n",
       "education.num     0\n",
       "capital.gain      0\n",
       "hours.per.week    0\n",
       "income            0\n",
       "dtype: int64"
      ]
     },
     "execution_count": 7,
     "metadata": {},
     "output_type": "execute_result"
    }
   ],
   "source": [
    "df.isnull().sum()"
   ]
  },
  {
   "cell_type": "markdown",
   "id": "5bb22a30-2923-4292-93da-76327a945661",
   "metadata": {},
   "source": [
    "# 4)MAPPING SALARY DATA TO BINARY VALUE:"
   ]
  },
  {
   "cell_type": "code",
   "execution_count": 8,
   "id": "28e80f94-a501-4b27-89f2-4d3e733d1fa3",
   "metadata": {},
   "outputs": [
    {
     "name": "stdout",
     "output_type": "stream",
     "text": [
      "<bound method NDFrame.head of        age  education.num  capital.gain  hours.per.week  income\n",
      "0       90              9             0              40       0\n",
      "1       82              9             0              18       0\n",
      "2       66             10             0              40       0\n",
      "3       54              4             0              40       0\n",
      "4       41             10             0              40       0\n",
      "...    ...            ...           ...             ...     ...\n",
      "32556   22             10             0              40       0\n",
      "32557   27             12             0              38       0\n",
      "32558   40              9             0              40       1\n",
      "32559   58              9             0              40       0\n",
      "32560   22              9             0              20       0\n",
      "\n",
      "[32561 rows x 5 columns]>\n"
     ]
    }
   ],
   "source": [
    "income_set=set(df['income'])\n",
    "df['income']=df['income'].map({'<=50K':0,'>50K':1}).astype(int)\n",
    "print(df.head)"
   ]
  },
  {
   "cell_type": "markdown",
   "id": "094c4c07-2993-4c5f-86f6-0e95bb53900e",
   "metadata": {},
   "source": [
    "# 5)SEGREGATING DATASET INTO X AND Y: "
   ]
  },
  {
   "cell_type": "code",
   "execution_count": 9,
   "id": "9f4b6311-5435-4f07-a8c2-267a7a1fce2b",
   "metadata": {},
   "outputs": [
    {
     "data": {
      "text/plain": [
       "array([[90,  9,  0, 40],\n",
       "       [82,  9,  0, 18],\n",
       "       [66, 10,  0, 40],\n",
       "       ...,\n",
       "       [40,  9,  0, 40],\n",
       "       [58,  9,  0, 40],\n",
       "       [22,  9,  0, 20]], dtype=int64)"
      ]
     },
     "execution_count": 9,
     "metadata": {},
     "output_type": "execute_result"
    }
   ],
   "source": [
    "X=df.iloc[:,:-1].values\n",
    "X"
   ]
  },
  {
   "cell_type": "code",
   "execution_count": 10,
   "id": "02175154-0839-4869-af11-6469fef5ad53",
   "metadata": {},
   "outputs": [
    {
     "data": {
      "text/plain": [
       "array([0, 0, 0, ..., 1, 0, 0])"
      ]
     },
     "execution_count": 10,
     "metadata": {},
     "output_type": "execute_result"
    }
   ],
   "source": [
    "Y=df.iloc[:,-1].values\n",
    "Y"
   ]
  },
  {
   "cell_type": "markdown",
   "id": "c925e08a-7f3c-4b0b-8ae8-6b8e074ce80c",
   "metadata": {},
   "source": [
    "# 6)SPLITTING DATASET INTO TRAIN AND TEST:"
   ]
  },
  {
   "cell_type": "code",
   "execution_count": 11,
   "id": "1f867aca-34ea-4246-a62c-09bcd803cbb4",
   "metadata": {},
   "outputs": [],
   "source": [
    "from sklearn.model_selection import train_test_split\n",
    "X_train,X_test,Y_train,Y_test=train_test_split(X,Y,test_size=0.25,random_state=0)"
   ]
  },
  {
   "cell_type": "markdown",
   "id": "80462edf-fc8e-497c-bde4-c42690b8a57a",
   "metadata": {},
   "source": [
    "# 7)FEATURE SCALING:"
   ]
  },
  {
   "cell_type": "code",
   "execution_count": 12,
   "id": "cfff160e-b39b-44a2-9249-0f5628bcaa59",
   "metadata": {},
   "outputs": [
    {
     "name": "stdout",
     "output_type": "stream",
     "text": [
      "[[ 1.20264866 -2.76154633 -0.14509813 -0.03923011]\n",
      " [ 0.25021666 -0.42608063 -0.14509813 -0.03923011]\n",
      " [ 0.25021666 -0.42608063 -0.14509813 -0.03923011]\n",
      " ...\n",
      " [-0.92200734 -0.81532491 -0.14509813  0.85306386]\n",
      " [ 0.39674466  1.52014079 -0.14509813 -0.03923011]\n",
      " [ 0.03042466 -0.42608063  0.83219401 -0.03923011]]\n",
      "\n",
      ".............................................\n",
      "\n",
      "[[ 1.27591266 -1.98305776 -0.14509813 -0.03923011]\n",
      " [-1.43485534 -0.42608063 -0.14509813 -1.25599461]\n",
      " [-1.14179934 -0.03683634 -0.14509813 -0.44481828]\n",
      " ...\n",
      " [ 0.39674466 -0.03683634 -0.14509813  1.1775344 ]\n",
      " [ 1.42244067 -0.42608063 -0.14509813  0.77194623]\n",
      " [ 1.20264866 -0.03683634 -0.14509813  0.36635806]]\n"
     ]
    }
   ],
   "source": [
    "from sklearn.preprocessing import StandardScaler\n",
    "sc=StandardScaler()\n",
    "X_train=sc.fit_transform(X_train)\n",
    "X_test=sc.transform(X_test)\n",
    "\n",
    "print(X_train)\n",
    "print(\"\\n.............................................\\n\")\n",
    "print(X_test)"
   ]
  },
  {
   "cell_type": "markdown",
   "id": "3bbd2d4f-1b12-42fc-b8d2-78c7410f448b",
   "metadata": {},
   "source": [
    "# 8)FINDING THE BEST K-VALUE:"
   ]
  },
  {
   "cell_type": "code",
   "execution_count": 13,
   "id": "bccd1942-9900-4dca-9ee8-6cf61dd75783",
   "metadata": {},
   "outputs": [
    {
     "data": {
      "text/plain": [
       "Text(0, 0.5, 'Mean Error')"
      ]
     },
     "execution_count": 13,
     "metadata": {},
     "output_type": "execute_result"
    },
    {
     "data": {
      "image/png": "[encoded data removed]",
      "text/plain": [
       "<Figure size 864x432 with 1 Axes>"
      ]
     },
     "metadata": {
      "needs_background": "light"
     },
     "output_type": "display_data"
    }
   ],
   "source": [
    "error=[]\n",
    "from sklearn.neighbors import KNeighborsClassifier\n",
    "import matplotlib.pyplot as plt\n",
    "\n",
    "for i in range(1,40):\n",
    "    model=KNeighborsClassifier(n_neighbors=i)\n",
    "    model.fit(X_train,Y_train)\n",
    "    pred_i=model.predict(X_test)\n",
    "    error.append(np.mean(pred_i != Y_test))\n",
    "    \n",
    "plt.figure(figsize=(12,6))\n",
    "plt.plot(range(1,40),error,color=\"red\",linestyle=\"dashed\",marker=\"o\",markerfacecolor=\"black\",markersize=10)\n",
    "plt.title(\"Error rate K-Value\")\n",
    "plt.xlabel(\"K-Value\")\n",
    "plt.ylabel(\"Mean Error\")"
   ]
  },
  {
   "cell_type": "markdown",
   "id": "2d8a050c-737b-4bc4-ae60-4eec13a76950",
   "metadata": {},
   "source": [
    "# 9)TRAINING:"
   ]
  },
  {
   "cell_type": "code",
   "execution_count": 14,
   "id": "7a227111-168a-4e02-b429-dc9e74eb1004",
   "metadata": {},
   "outputs": [
    {
     "data": {
      "text/plain": [
       "KNeighborsClassifier(n_neighbors=16)"
      ]
     },
     "execution_count": 14,
     "metadata": {},
     "output_type": "execute_result"
    }
   ],
   "source": [
    "from sklearn.neighbors import KNeighborsClassifier\n",
    "model=KNeighborsClassifier(n_neighbors=16,metric=\"minkowski\",p=2)\n",
    "model.fit(X_train,Y_train)"
   ]
  },
  {
   "cell_type": "markdown",
   "id": "c57faed0-6c76-45d6-9146-8e6236402b85",
   "metadata": {},
   "source": [
    "# 10)PREDICTING THE INCOME:"
   ]
  },
  {
   "cell_type": "code",
   "execution_count": 16,
   "id": "9c329ebb-2bce-4f0a-8023-144e99f3be5f",
   "metadata": {},
   "outputs": [
    {
     "name": "stdin",
     "output_type": "stream",
     "text": [
      "Enter age of the new employee: 50\n",
      "Enter education of the new employee: 3\n",
      "Enter capital gain of the new employee: 40\n",
      "Enter working hour of the new employee: 6\n"
     ]
    },
    {
     "name": "stdout",
     "output_type": "stream",
     "text": [
      "[0]\n",
      "Employee will not get salary above 50K! \n"
     ]
    }
   ],
   "source": [
    "age=int(input(\"Enter age of the new employee:\"))\n",
    "edu=int(input(\"Enter education of the new employee:\"))\n",
    "cg=int(input(\"Enter capital gain of the new employee:\"))\n",
    "wph=int(input(\"Enter working hour of the new employee:\"))\n",
    "\n",
    "new_emp=[[age,edu,cg,wph]]\n",
    "result=model.predict(sc.transform(new_emp))\n",
    "print(result)\n",
    "\n",
    "if(result==1):\n",
    "    print(\"Employee will get salary above 50K!\")\n",
    "else:\n",
    "    print(\"Employee will not get salary above 50K! \")"
   ]
  },
  {
   "cell_type": "markdown",
   "id": "77a1cc01-1094-49f7-84a3-43bc2ebab284",
   "metadata": {},
   "source": [
    "# 11)PREDICTING FOR ALL TEST DATA:"
   ]
  },
  {
   "cell_type": "code",
   "execution_count": 17,
   "id": "4d58ae4c-a24f-4c13-a933-f21b6bf8fa03",
   "metadata": {},
   "outputs": [
    {
     "name": "stdout",
     "output_type": "stream",
     "text": [
      "[[0 0]\n",
      " [0 0]\n",
      " [0 0]\n",
      " ...\n",
      " [0 0]\n",
      " [0 0]\n",
      " [0 0]]\n"
     ]
    }
   ],
   "source": [
    "Y_pred=model.predict(X_test)\n",
    "print(np.concatenate((Y_pred.reshape(len(Y_pred),1),Y_test.reshape(len(Y_test),1)),1))"
   ]
  },
  {
   "cell_type": "markdown",
   "id": "63468e49-ed83-4e2c-a9af-cbd25053b9ee",
   "metadata": {},
   "source": [
    "# 12)EVALUATING MODEL-CONFUSION MATRIX(FOR VALIDATION):"
   ]
  },
  {
   "cell_type": "code",
   "execution_count": 18,
   "id": "33553afb-c35a-4604-b89e-dc1db36bda79",
   "metadata": {},
   "outputs": [
    {
     "name": "stdout",
     "output_type": "stream",
     "text": [
      "CONFUSION MATRIX:\n",
      "[[5882  311]\n",
      " [1185  763]]\n",
      "ACCURACY:81.62387913032796%\n"
     ]
    }
   ],
   "source": [
    "from sklearn.metrics import confusion_matrix,accuracy_score\n",
    "cm=confusion_matrix(Y_test,Y_pred)\n",
    "\n",
    "print(\"CONFUSION MATRIX:\")\n",
    "print(cm)\n",
    "\n",
    "print(\"ACCURACY:{0}%\".format(accuracy_score(Y_test,Y_pred)*100))\n"
   ]
  },
  {
   "cell_type": "code",
   "execution_count": null,
   "id": "730f6b12-0424-4004-822c-8c2bcdc2fe61",
   "metadata": {},
   "outputs": [],
   "source": []
  }
 ],
 "metadata": {
  "kernelspec": {
   "display_name": "Python 3",
   "language": "python",
   "name": "python3"
  },
  "language_info": {
   "codemirror_mode": {
    "name": "ipython",
    "version": 3
   },
   "file_extension": ".py",
   "mimetype": "text/x-python",
   "name": "python",
   "nbconvert_exporter": "python",
   "pygments_lexer": "ipython3",
   "version": "3.8.8"
  }
 },
 "nbformat": 4,
 "nbformat_minor": 5
}
