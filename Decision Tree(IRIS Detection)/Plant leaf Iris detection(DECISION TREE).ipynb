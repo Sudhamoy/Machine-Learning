{
 "cells": [
  {
   "cell_type": "markdown",
   "id": "65794052-cc2f-47b9-bfb6-05b48d130b20",
   "metadata": {},
   "source": [
    "# PLANT LEAF IRIS DETECTION USING DECISION TREE:"
   ]
  },
  {
   "cell_type": "code",
   "execution_count": null,
   "id": "4b2eb710-cdba-40a8-9da7-945e73d7618f",
   "metadata": {},
   "outputs": [],
   "source": []
  }
 ],
 "metadata": {
  "kernelspec": {
   "display_name": "Python 3",
   "language": "python",
   "name": "python3"
  },
  "language_info": {
   "codemirror_mode": {
    "name": "ipython",
    "version": 3
   },
   "file_extension": ".py",
   "mimetype": "text/x-python",
   "name": "python",
   "nbconvert_exporter": "python",
   "pygments_lexer": "ipython3",
   "version": "3.8.8"
  }
 },
 "nbformat": 4,
 "nbformat_minor": 5
}
